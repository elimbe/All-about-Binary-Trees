{
 "cells": [
  {
   "cell_type": "markdown",
   "id": "6fe72f29",
   "metadata": {},
   "source": [
    "as a senior backend developer at Microsoft, you are tasked eith developing a fast in memory data structure to manage profile informatation (username,name and email) for 100 million users. It should allow the following opeerations to be performed efficiently.\n",
    "1. insert the profile information of a new user\n",
    "2. find the profile information of anew user given their username.\n",
    "3. Update the profile information of a user given their username.\n",
    "4. List all the users in the platform, sorted by usrname.\n",
    "you can assume thw username is unique.\n"
   ]
  },
  {
   "cell_type": "markdown",
   "id": "f9e62ced",
   "metadata": {},
   "source": [
    "1. state the problem clearly, identify the input and output formats.\n",
    "2. we need to crreate a datastructure which can store 100 million records and perform insertion, search, update and list operations efficiently.\n"
   ]
  },
  {
   "cell_type": "markdown",
   "id": "8049ef69",
   "metadata": {},
   "source": [
    "the key input to our data structure are user profiles, which contain the username, name and email of the user.\n",
    " A python class would be a great way to represent the information for a user. A class is a blueprint for creating objects.Everyhing in Python is an object belonging to the same class."
   ]
  },
  {
   "cell_type": "code",
   "execution_count": 1,
   "id": "dd4f0341",
   "metadata": {},
   "outputs": [],
   "source": [
    "class User:\n",
    "    pass"
   ]
  },
  {
   "cell_type": "code",
   "execution_count": 2,
   "id": "7887779e",
   "metadata": {},
   "outputs": [],
   "source": [
    "user1=User()"
   ]
  },
  {
   "cell_type": "markdown",
   "id": "95947a64",
   "metadata": {},
   "source": [
    "we can verify that the object is of the class User."
   ]
  },
  {
   "cell_type": "code",
   "execution_count": 3,
   "id": "3503f48b",
   "metadata": {},
   "outputs": [
    {
     "data": {
      "text/plain": [
       "<__main__.User at 0x17ffa46fe20>"
      ]
     },
     "execution_count": 3,
     "metadata": {},
     "output_type": "execute_result"
    }
   ],
   "source": [
    "user1"
   ]
  },
  {
   "cell_type": "code",
   "execution_count": 4,
   "id": "9ec5f45a",
   "metadata": {},
   "outputs": [
    {
     "data": {
      "text/plain": [
       "__main__.User"
      ]
     },
     "execution_count": 4,
     "metadata": {},
     "output_type": "execute_result"
    }
   ],
   "source": [
    "type(user1)"
   ]
  },
  {
   "cell_type": "markdown",
   "id": "244f979b",
   "metadata": {},
   "source": [
    "the object user1 does not contain any useful information. Lets add a constructor method to the class o store some atributes or properties."
   ]
  },
  {
   "cell_type": "code",
   "execution_count": 10,
   "id": "c316b457",
   "metadata": {},
   "outputs": [],
   "source": [
    "class User:\n",
    "    def __init__(self, name, username, email):\n",
    "        self.username=username\n",
    "        self.name=name\n",
    "        self.email=email\n",
    "        print('user created')\n",
    "    "
   ]
  },
  {
   "cell_type": "markdown",
   "id": "7be38ec5",
   "metadata": {},
   "source": [
    "we can now crete an object with some properties"
   ]
  },
  {
   "cell_type": "code",
   "execution_count": 2,
   "id": "aa677dab",
   "metadata": {},
   "outputs": [
    {
     "name": "stdout",
     "output_type": "stream",
     "text": [
      "user created\n"
     ]
    }
   ],
   "source": [
    "user2=User('John', 'John The Baptist', 'johnthebaptist@mail.com')"
   ]
  },
  {
   "cell_type": "code",
   "execution_count": 7,
   "id": "ebd6593f",
   "metadata": {},
   "outputs": [
    {
     "data": {
      "text/plain": [
       "<__main__.User at 0x17ffa7f6be0>"
      ]
     },
     "execution_count": 7,
     "metadata": {},
     "output_type": "execute_result"
    }
   ],
   "source": [
    "user2"
   ]
  },
  {
   "cell_type": "markdown",
   "id": "8d269118",
   "metadata": {},
   "source": [
    "python creates an empty object of the type User and strores it in the variiable user2.\n",
    "Python invokes the function User.__init__ with arguments user2, 'John', \"John The Baptist', 'johnthebaptist@mail.com'\n",
    " As the __init__ function iis executed, the properties username, name, email are set to object user2\n"
   ]
  },
  {
   "cell_type": "code",
   "execution_count": 8,
   "id": "78c2a09f",
   "metadata": {},
   "outputs": [
    {
     "data": {
      "text/plain": [
       "'johnthebaptist@mail.com'"
      ]
     },
     "execution_count": 8,
     "metadata": {},
     "output_type": "execute_result"
    }
   ],
   "source": [
    "user2.email"
   ]
  },
  {
   "cell_type": "code",
   "execution_count": 3,
   "id": "19ff0569",
   "metadata": {},
   "outputs": [],
   "source": [
    "def introduce_yourself(self, guest_name):\n",
    "    print(\"Hi {},I'm {}! Contact me at {} .\".format(guest_name,self.name, self.email))"
   ]
  },
  {
   "cell_type": "code",
   "execution_count": 4,
   "id": "aebaa4c3",
   "metadata": {},
   "outputs": [
    {
     "ename": "AttributeError",
     "evalue": "'User' object has no attribute 'introduce_yourself'",
     "output_type": "error",
     "traceback": [
      "\u001b[1;31m---------------------------------------------------------------------------\u001b[0m",
      "\u001b[1;31mAttributeError\u001b[0m                            Traceback (most recent call last)",
      "\u001b[1;32m~\\AppData\\Local\\Temp/ipykernel_8292/1344288187.py\u001b[0m in \u001b[0;36m<module>\u001b[1;34m\u001b[0m\n\u001b[1;32m----> 1\u001b[1;33m \u001b[0muser2\u001b[0m\u001b[1;33m.\u001b[0m\u001b[0mintroduce_yourself\u001b[0m\u001b[1;33m(\u001b[0m\u001b[1;34m'eric'\u001b[0m\u001b[1;33m)\u001b[0m\u001b[1;33m\u001b[0m\u001b[1;33m\u001b[0m\u001b[0m\n\u001b[0m",
      "\u001b[1;31mAttributeError\u001b[0m: 'User' object has no attribute 'introduce_yourself'"
     ]
    }
   ],
   "source": [
    "user2.introduce_yourself('eric')"
   ]
  },
  {
   "cell_type": "markdown",
   "id": "dc1d4b84",
   "metadata": {},
   "source": [
    "def __repr__\n",
    "def __str__\n",
    "the deference between the functions."
   ]
  },
  {
   "cell_type": "markdown",
   "id": "1e294562",
   "metadata": {},
   "source": [
    "we can also express our desired data struucture as a python class userDatabase with four methods: insert, find, update, and list_all."
   ]
  },
  {
   "cell_type": "markdown",
   "id": "b1e943ce",
   "metadata": {},
   "source": [
    "what is the the purpose of defining the functions __str__ and __repr__ within a class? How are the two functions different? Illustrate with some examples using empty cells bellow."
   ]
  },
  {
   "cell_type": "markdown",
   "id": "db116be2",
   "metadata": {},
   "source": [
    "The __str__ method should be defined in a way that is easy to read and outputs all memberes of the class. This method is also used for debugging when the members of aclass need to be checked."
   ]
  },
  {
   "cell_type": "markdown",
   "id": "400e7e7d",
   "metadata": {},
   "source": [
    "the __repr__ function is used for the official string representation of an object and is typycally used for debgging."
   ]
  },
  {
   "cell_type": "markdown",
   "id": "2b1863ad",
   "metadata": {},
   "source": [
    "when you call str() on an object,it calls the special method __str__ of the object. and when you call repr() on an objec, it calls the special method __repr__ of the object. When you call print() on an object it calls __str__ method of the object."
   ]
  },
  {
   "cell_type": "code",
   "execution_count": null,
   "id": "6a3ebc09",
   "metadata": {},
   "outputs": [],
   "source": [
    "class UserDatabase:\n",
    "    def insert(self, user):\n",
    "        pass\n",
    "    def find(self, username):\n",
    "        pass\n",
    "    def update(self,user):\n",
    "        pass\n",
    "    def list_all(self):\n",
    "        pass"
   ]
  },
  {
   "cell_type": "markdown",
   "id": "62406716",
   "metadata": {},
   "source": [
    "its good paractise to list ot the signatures of different class functions before we actually implement the class."
   ]
  },
  {
   "cell_type": "markdown",
   "id": "cd7e6d5e",
   "metadata": {},
   "source": [
    "come up wirh some example inputs and outputs\n",
    "lets create some user profiles that we can use to tesr our functions once we implemment them."
   ]
  },
  {
   "cell_type": "code",
   "execution_count": 6,
   "id": "0f775a9d",
   "metadata": {},
   "outputs": [
    {
     "name": "stdout",
     "output_type": "stream",
     "text": [
      "user created\n",
      "user created\n",
      "user created\n",
      "user created\n",
      "user created\n",
      "user created\n",
      "user created\n"
     ]
    }
   ],
   "source": [
    "Eric=User('Eric Limbe', 'ENE211-0258/2016','limbe@students.com')\n",
    "Eunice=User('Eunice Vele','ENE211-0054/2016', 'wanjiku@students.com')\n",
    "Felix=User('Onkundi Felix','ENE211-0228/2016','nyabuto@sudents.com')\n",
    "Gloria=User('Gloria Mosima','ENE211-0257/2016','gesare@students.com')\n",
    "Jimmy=User(\"jimmy Nzioki\",'EN271-3857/2015','nzioki@students.com')\n",
    "Renee=User('Renee Nyiva','ENE211-0211/2017',\"nyiva@students.com\")\n",
    "Leakey=User(\"Leaky Luse\",'ENE211-0222/2017','luse@students.com')"
   ]
  },
  {
   "cell_type": "code",
   "execution_count": 7,
   "id": "89dd7dde",
   "metadata": {},
   "outputs": [
    {
     "data": {
      "text/plain": [
       "'limbe@students.com'"
      ]
     },
     "execution_count": 7,
     "metadata": {},
     "output_type": "execute_result"
    }
   ],
   "source": [
    "Eric.email"
   ]
  },
  {
   "cell_type": "code",
   "execution_count": 9,
   "id": "e313d23e",
   "metadata": {},
   "outputs": [
    {
     "data": {
      "text/plain": [
       "'ENE211-0054/2016'"
      ]
     },
     "execution_count": 9,
     "metadata": {},
     "output_type": "execute_result"
    }
   ],
   "source": [
    "Eunice.name"
   ]
  },
  {
   "cell_type": "code",
   "execution_count": 11,
   "id": "a2006df1",
   "metadata": {},
   "outputs": [
    {
     "data": {
      "text/plain": [
       "'ENE211-0211/2017'"
      ]
     },
     "execution_count": 11,
     "metadata": {},
     "output_type": "execute_result"
    }
   ],
   "source": [
    "Renee.name"
   ]
  },
  {
   "cell_type": "code",
   "execution_count": 12,
   "id": "ae833065",
   "metadata": {},
   "outputs": [
    {
     "data": {
      "text/plain": [
       "'Eric Limbe'"
      ]
     },
     "execution_count": 12,
     "metadata": {},
     "output_type": "execute_result"
    }
   ],
   "source": [
    "Eric.username\n"
   ]
  },
  {
   "cell_type": "code",
   "execution_count": 14,
   "id": "6591b3e6",
   "metadata": {},
   "outputs": [],
   "source": [
    "users=[Eric, Eunice, Felix, Gloria, Jimmy, Renee, Leakey]"
   ]
  },
  {
   "cell_type": "code",
   "execution_count": 15,
   "id": "f26f204f",
   "metadata": {},
   "outputs": [
    {
     "name": "stdout",
     "output_type": "stream",
     "text": [
      "<__main__.User object at 0x000001F524DF65B0>\n"
     ]
    }
   ],
   "source": [
    "print(Eric)"
   ]
  },
  {
   "cell_type": "code",
   "execution_count": 16,
   "id": "5328a0f2",
   "metadata": {},
   "outputs": [
    {
     "data": {
      "text/plain": [
       "[<__main__.User at 0x1f524df65b0>,\n",
       " <__main__.User at 0x1f524df6550>,\n",
       " <__main__.User at 0x1f524df6400>,\n",
       " <__main__.User at 0x1f524df62e0>,\n",
       " <__main__.User at 0x1f524df61c0>,\n",
       " <__main__.User at 0x1f524df60a0>,\n",
       " <__main__.User at 0x1f523d26ee0>]"
      ]
     },
     "execution_count": 16,
     "metadata": {},
     "output_type": "execute_result"
    }
   ],
   "source": [
    "users"
   ]
  },
  {
   "cell_type": "code",
   "execution_count": 18,
   "id": "88366113",
   "metadata": {},
   "outputs": [
    {
     "data": {
      "text/plain": [
       "'ENE211-0054/2016'"
      ]
     },
     "execution_count": 18,
     "metadata": {},
     "output_type": "execute_result"
    }
   ],
   "source": [
    "Eunice.name"
   ]
  },
  {
   "cell_type": "markdown",
   "id": "6c9b2106",
   "metadata": {},
   "source": [
    "since we havent implemented our data structure yet, its not posible t list sample outputs. However you can coume uo with future scenarios to implement future implementations."
   ]
  },
  {
   "cell_type": "code",
   "execution_count": 19,
   "id": "4956ce98",
   "metadata": {
    "scrolled": true
   },
   "outputs": [
    {
     "name": "stdout",
     "output_type": "stream",
     "text": [
      "<__main__.User object at 0x000001F524DF6550>\n"
     ]
    }
   ],
   "source": [
    "print(Eunice)"
   ]
  },
  {
   "cell_type": "raw",
   "id": "e9ee4bac",
   "metadata": {},
   "source": [
    "list some scenarios for testing the class methods insert, find, update and list all."
   ]
  },
  {
   "cell_type": "markdown",
   "id": "e271d45b",
   "metadata": {},
   "source": [
    "inserting into an empty database of users\n",
    "trying to insert a user with a username that already exists\n",
    "inserting a user with a username that does not exist\n",
    "inserting a user with an email that already exists\n",
    " the same edge conditions can apply to find update and list."
   ]
  },
  {
   "cell_type": "markdown",
   "id": "aaf90c46",
   "metadata": {},
   "source": [
    "come up with a correct solution. state it in palin english."
   ]
  },
  {
   "cell_type": "markdown",
   "id": "0860d3bc",
   "metadata": {},
   "source": [
    "here a simple and easysolution to the problem. We store the user objects in a list sorted by username.\n",
    "the various functions cam be implemented as follows.\n",
    "Insert: loop though the list, add a new user at a position that keeps the list sorted.\n",
    "Find: Loop through the list and find the user object with username matching the query\n",
    "Update: loop through the list, find the user object matching the query and update the details.\n",
    "List: return the list of user objects."
   ]
  },
  {
   "cell_type": "markdown",
   "id": "cda86de0",
   "metadata": {},
   "source": [
    "we can use the fact that usernames, which are strings can be compared using the <, >, and == operators in python.\n",
    "ie. Eric < Owuor"
   ]
  },
  {
   "cell_type": "markdown",
   "id": "529ebd7c",
   "metadata": {},
   "source": [
    "implement the solution and test it using example inputs."
   ]
  },
  {
   "cell_type": "code",
   "execution_count": 31,
   "id": "8d95def9",
   "metadata": {},
   "outputs": [],
   "source": [
    "class UserDatabase:\n",
    "    def __init__(self):\n",
    "        self.users=[]\n",
    "    def insert(self,user):\n",
    "        i=0\n",
    "        while i<len(self.users):\n",
    "            #find the first username greater than the new user's username\n",
    "            if self.users[i].username>user.username:\n",
    "                break\n",
    "            i+=1\n",
    "        self.users.insert(i, user)\n",
    "    def find(self,username):\n",
    "        for user in self.users:\n",
    "            if user.username==username:\n",
    "                return user\n",
    "    def update(self, user):\n",
    "        target=self.find(user.username)\n",
    "        target.name,target.email= user.name, user.email\n",
    "    def list_all(self):\n",
    "        return self.users"
   ]
  },
  {
   "cell_type": "code",
   "execution_count": 25,
   "id": "f6ea783a",
   "metadata": {},
   "outputs": [],
   "source": [
    "database=UserDatabase()"
   ]
  },
  {
   "cell_type": "code",
   "execution_count": 33,
   "id": "08e2e7fb",
   "metadata": {},
   "outputs": [
    {
     "ename": "NameError",
     "evalue": "name 'o' is not defined",
     "output_type": "error",
     "traceback": [
      "\u001b[1;31m---------------------------------------------------------------------------\u001b[0m",
      "\u001b[1;31mNameError\u001b[0m                                 Traceback (most recent call last)",
      "\u001b[1;32m~\\AppData\\Local\\Temp/ipykernel_8292/2259314543.py\u001b[0m in \u001b[0;36m<module>\u001b[1;34m\u001b[0m\n\u001b[1;32m----> 1\u001b[1;33m \u001b[0mdatabase\u001b[0m\u001b[1;33m.\u001b[0m\u001b[0minsert\u001b[0m\u001b[1;33m(\u001b[0m\u001b[0mEric\u001b[0m\u001b[1;33m)\u001b[0m\u001b[1;33m\u001b[0m\u001b[1;33m\u001b[0m\u001b[0m\n\u001b[0m\u001b[0;32m      2\u001b[0m \u001b[0mdatabase\u001b[0m\u001b[1;33m.\u001b[0m\u001b[0minsert\u001b[0m\u001b[1;33m(\u001b[0m\u001b[0mEunice\u001b[0m\u001b[1;33m)\u001b[0m\u001b[1;33m\u001b[0m\u001b[1;33m\u001b[0m\u001b[0m\n\u001b[0;32m      3\u001b[0m \u001b[0mdatabase\u001b[0m\u001b[1;33m.\u001b[0m\u001b[0minsert\u001b[0m\u001b[1;33m(\u001b[0m\u001b[0mFelix\u001b[0m\u001b[1;33m)\u001b[0m\u001b[1;33m\u001b[0m\u001b[1;33m\u001b[0m\u001b[0m\n",
      "\u001b[1;32m~\\AppData\\Local\\Temp/ipykernel_8292/4248203584.py\u001b[0m in \u001b[0;36minsert\u001b[1;34m(self, user)\u001b[0m\n\u001b[0;32m      3\u001b[0m         \u001b[0mself\u001b[0m\u001b[1;33m.\u001b[0m\u001b[0musers\u001b[0m\u001b[1;33m=\u001b[0m\u001b[1;33m[\u001b[0m\u001b[1;33m]\u001b[0m\u001b[1;33m\u001b[0m\u001b[1;33m\u001b[0m\u001b[0m\n\u001b[0;32m      4\u001b[0m     \u001b[1;32mdef\u001b[0m \u001b[0minsert\u001b[0m\u001b[1;33m(\u001b[0m\u001b[0mself\u001b[0m\u001b[1;33m,\u001b[0m\u001b[0muser\u001b[0m\u001b[1;33m)\u001b[0m\u001b[1;33m:\u001b[0m\u001b[1;33m\u001b[0m\u001b[1;33m\u001b[0m\u001b[0m\n\u001b[1;32m----> 5\u001b[1;33m         \u001b[0mi\u001b[0m\u001b[1;33m=\u001b[0m\u001b[0mo\u001b[0m\u001b[1;33m\u001b[0m\u001b[1;33m\u001b[0m\u001b[0m\n\u001b[0m\u001b[0;32m      6\u001b[0m         \u001b[1;32mwhile\u001b[0m \u001b[0mi\u001b[0m\u001b[1;33m<\u001b[0m\u001b[0mlen\u001b[0m\u001b[1;33m(\u001b[0m\u001b[0mself\u001b[0m\u001b[1;33m.\u001b[0m\u001b[0musers\u001b[0m\u001b[1;33m)\u001b[0m\u001b[1;33m:\u001b[0m\u001b[1;33m\u001b[0m\u001b[1;33m\u001b[0m\u001b[0m\n\u001b[0;32m      7\u001b[0m             \u001b[1;31m#find the first username greater than the new user's username\u001b[0m\u001b[1;33m\u001b[0m\u001b[1;33m\u001b[0m\u001b[0m\n",
      "\u001b[1;31mNameError\u001b[0m: name 'o' is not defined"
     ]
    }
   ],
   "source": [
    "database.insert(Eric)\n",
    "database.insert(Eunice)\n",
    "database.insert(Felix)"
   ]
  },
  {
   "cell_type": "markdown",
   "id": "a1f5565a",
   "metadata": {},
   "source": [
    "analyse the algorithm complexity and inefficiencies if any."
   ]
  },
  {
   "cell_type": "markdown",
   "id": "e3317272",
   "metadata": {},
   "source": [
    "the operations insert, find, updarte iinvolves iterating over a list of users, in the worst case, they take up to N iterations to return a result , where N is the number of uers.\n",
    "List_all however, simply reuns the existing list of users."
   ]
  },
  {
   "cell_type": "markdown",
   "id": "afea5ba5",
   "metadata": {},
   "source": [
    "thus the time complexities of the opersstions are:\n",
    "1. insert: O(N)\n",
    "2. find: O(N)\n",
    "3. Update: O(N)\n",
    "4. list: O(1)"
   ]
  },
  {
   "cell_type": "markdown",
   "id": "cbcf766b",
   "metadata": {},
   "source": [
    "verify the sapce complexity of the operation os O(1)"
   ]
  },
  {
   "cell_type": "code",
   "execution_count": null,
   "id": "42496e4b",
   "metadata": {},
   "outputs": [],
   "source": [
    "%timeit\n",
    "for i in range(10):\n",
    "    j=i*1"
   ]
  },
  {
   "cell_type": "code",
   "execution_count": null,
   "id": "3e890be5",
   "metadata": {},
   "outputs": [],
   "source": [
    "n=100000"
   ]
  },
  {
   "cell_type": "code",
   "execution_count": null,
   "id": "644b286c",
   "metadata": {},
   "outputs": [],
   "source": []
  }
 ],
 "metadata": {
  "kernelspec": {
   "display_name": "Python 3 (ipykernel)",
   "language": "python",
   "name": "python3"
  },
  "language_info": {
   "codemirror_mode": {
    "name": "ipython",
    "version": 3
   },
   "file_extension": ".py",
   "mimetype": "text/x-python",
   "name": "python",
   "nbconvert_exporter": "python",
   "pygments_lexer": "ipython3",
   "version": "3.9.7"
  }
 },
 "nbformat": 4,
 "nbformat_minor": 5
}
