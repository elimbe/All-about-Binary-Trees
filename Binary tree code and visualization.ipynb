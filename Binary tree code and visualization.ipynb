{
 "cells": [
  {
   "cell_type": "markdown",
   "id": "e43de4ff",
   "metadata": {},
   "source": [
    "as a senior backend developer at Microsoft, you are tasked eith developing a fast in memory data structure to manage profile informatation (username,name and email) for 100 million users. It should allow the following opeerations to be performed efficiently.\n",
    "1. insert the profile information of a new user\n",
    "2. find the profile information of anew user given their username.\n",
    "3. Update the profile information of a user given their username.\n",
    "4. List all the users in the platform, sorted by usrname.\n",
    "you can assume thw username is unique.\n"
   ]
  },
  {
   "cell_type": "markdown",
   "id": "ed58b4a3",
   "metadata": {},
   "source": [
    "apply the right technique to overcome the inefficiency\n",
    "we can limit the number of iterations required for normal operations like find, insert and upadate by organizing our data into a binary tree.\n",
    "1. the word binary indicates that each node in the tree can have at most 2 children (left or right)\n",
    "2. nodes can have 0, 1, or 2 children.\n",
    "nodes that do not have children are sometimes called leaves.\n",
    "3. the single node at the top is called root node and its typically where operations like search, insertion etc begin."
   ]
  },
  {
   "cell_type": "markdown",
   "id": "c9954ec1",
   "metadata": {},
   "source": [
    "for our use case, we require the binary tree to have additional properties.\n",
    "keys and values. Each node of the tree stores a key(username) and a value (user object). A binary tree where the nodes have both a key and a value is often refered to as a map or a treemap.(because it maps keys to values)\n",
    "2. binary search tree. the left subtree of any node only contains nodes with keys that at=re lexicographically smaller than the nodes key. and the right subtree of any node contains nodes with keys that are lexicographically larger than the nodes key. A tree satisfies this property is called a binary search tree. And its easy to locate a specific key by transversing  a single path down from the root node."
   ]
  },
  {
   "cell_type": "markdown",
   "id": "4939938e",
   "metadata": {},
   "source": [
    "balanced tree. The tree is balanced. ie it does not skew too heavily to one side or the other. The left and right subtrees of any node shouldnt differ in height/depth by more than one level."
   ]
  },
  {
   "cell_type": "markdown",
   "id": "bd54465d",
   "metadata": {},
   "source": [
    "heigh of a binary tree\n",
    " the number of levels in a tree is called its height.\n",
    " each level of a tree contains twice as many nodes as the previous level.as we'll see soon, the insert, find and update operations in abalanced search tree have complexity of O(log N) since they are all transversing a single path down from the root of the tree."
   ]
  },
  {
   "cell_type": "code",
   "execution_count": null,
   "id": "30b35828",
   "metadata": {},
   "outputs": [],
   "source": [
    "IMPLEMENTATION OF BINARY SEARCH TREE."
   ]
  },
  {
   "cell_type": "code",
   "execution_count": 1,
   "id": "e7be4009",
   "metadata": {},
   "outputs": [],
   "source": [
    "class TreeNode:\n",
    "    def __init__(self,key):\n",
    "        self.key=key\n",
    "        self.left=None\n",
    "        self.right=None"
   ]
  },
  {
   "cell_type": "code",
   "execution_count": 2,
   "id": "5d5dcc26",
   "metadata": {},
   "outputs": [],
   "source": [
    "node0=TreeNode(3)\n",
    "node1=TreeNode(4)\n",
    "node2=TreeNode(5)"
   ]
  },
  {
   "cell_type": "code",
   "execution_count": 3,
   "id": "9b1932ba",
   "metadata": {},
   "outputs": [
    {
     "data": {
      "text/plain": [
       "<__main__.TreeNode at 0x2046c8ae820>"
      ]
     },
     "execution_count": 3,
     "metadata": {},
     "output_type": "execute_result"
    }
   ],
   "source": [
    "node0"
   ]
  },
  {
   "cell_type": "code",
   "execution_count": 4,
   "id": "4dbe5439",
   "metadata": {},
   "outputs": [
    {
     "data": {
      "text/plain": [
       "3"
      ]
     },
     "execution_count": 4,
     "metadata": {},
     "output_type": "execute_result"
    }
   ],
   "source": [
    "node0.key"
   ]
  },
  {
   "cell_type": "code",
   "execution_count": 6,
   "id": "5553648d",
   "metadata": {},
   "outputs": [],
   "source": [
    "node0.left=node1\n",
    "node0.right=node2"
   ]
  },
  {
   "cell_type": "code",
   "execution_count": 8,
   "id": "9ea2895a",
   "metadata": {},
   "outputs": [],
   "source": [
    "tree=node0"
   ]
  },
  {
   "cell_type": "code",
   "execution_count": 9,
   "id": "a7a79cc2",
   "metadata": {},
   "outputs": [
    {
     "data": {
      "text/plain": [
       "3"
      ]
     },
     "execution_count": 9,
     "metadata": {},
     "output_type": "execute_result"
    }
   ],
   "source": [
    "tree.key"
   ]
  },
  {
   "cell_type": "code",
   "execution_count": 10,
   "id": "7449fdc2",
   "metadata": {},
   "outputs": [
    {
     "data": {
      "text/plain": [
       "4"
      ]
     },
     "execution_count": 10,
     "metadata": {},
     "output_type": "execute_result"
    }
   ],
   "source": [
    "tree.left.key"
   ]
  },
  {
   "cell_type": "code",
   "execution_count": 11,
   "id": "6f190236",
   "metadata": {},
   "outputs": [
    {
     "data": {
      "text/plain": [
       "5"
      ]
     },
     "execution_count": 11,
     "metadata": {},
     "output_type": "execute_result"
    }
   ],
   "source": [
    "tree.right.key"
   ]
  },
  {
   "cell_type": "markdown",
   "id": "a3c4755c",
   "metadata": {},
   "source": [
    "going forward we'll use the term tree to refer too the root node. athe term \"node\" can refer to any node in the tree, not neccesarily the root."
   ]
  },
  {
   "cell_type": "code",
   "execution_count": 12,
   "id": "0b0cacf6",
   "metadata": {},
   "outputs": [],
   "source": [
    " tree_tuple=((1,3,None),2, ((None,3,4),5,(6,7,8)))"
   ]
  },
  {
   "cell_type": "code",
   "execution_count": 15,
   "id": "0623a64b",
   "metadata": {},
   "outputs": [],
   "source": [
    "def parse_tuple(data):\n",
    "    #print (data)\n",
    "    if isinstance(data,tuple) and len(data)==3:\n",
    "        node=TreeNode(data[1])\n",
    "        node.left=parse_tuple(data[0])\n",
    "        node.right=parse_tuple(data[2])\n",
    "    elif data is None:\n",
    "        node=None\n",
    "    else:\n",
    "        node=TreeNode(data)\n",
    "    return node"
   ]
  },
  {
   "cell_type": "markdown",
   "id": "91a8902c",
   "metadata": {},
   "source": [
    "the parse_tuple creates a new root node when a tuple of size 3 as an input. interestingly, to create the left and right subtrees for the nodes, the parse_tuple function invokes itself."
   ]
  },
  {
   "cell_type": "code",
   "execution_count": 20,
   "id": "1d15fedb",
   "metadata": {},
   "outputs": [],
   "source": [
    "tree2=parse_tuple(((1,3,None),2, ((None,3,4),5,(6,7,8))))"
   ]
  },
  {
   "cell_type": "code",
   "execution_count": 21,
   "id": "b37732f1",
   "metadata": {},
   "outputs": [
    {
     "data": {
      "text/plain": [
       "2"
      ]
     },
     "execution_count": 21,
     "metadata": {},
     "output_type": "execute_result"
    }
   ],
   "source": [
    "tree2.key"
   ]
  },
  {
   "cell_type": "code",
   "execution_count": 22,
   "id": "1accac49",
   "metadata": {
    "scrolled": true
   },
   "outputs": [
    {
     "data": {
      "text/plain": [
       "(3, 5)"
      ]
     },
     "execution_count": 22,
     "metadata": {},
     "output_type": "execute_result"
    }
   ],
   "source": [
    "tree2.left.key,tree2.right.key"
   ]
  },
  {
   "cell_type": "code",
   "execution_count": 26,
   "id": "f23457ea",
   "metadata": {},
   "outputs": [
    {
     "data": {
      "text/plain": [
       "(1, 3, 7)"
      ]
     },
     "execution_count": 26,
     "metadata": {},
     "output_type": "execute_result"
    }
   ],
   "source": [
    "tree2.left.left.key, tree2.right.left.key,tree2.right.right.key"
   ]
  },
  {
   "cell_type": "markdown",
   "id": "91c92eb7",
   "metadata": {},
   "source": [
    "define a function tree_to_tuple that converts a binary tree into a tuple representing the same tree. E.g tree_to_tuple converts the ree created above into tuple."
   ]
  },
  {
   "cell_type": "code",
   "execution_count": 34,
   "id": "9babdfe4",
   "metadata": {},
   "outputs": [],
   "source": [
    "def display_keys(node, space='\\t', level=0):\n",
    "    #print(node.key if node else None,level)\n",
    "    \n",
    "    #If node is empty\n",
    "    if node is None:\n",
    "        print (space*level+'$')\n",
    "        return\n",
    "    #if the node is a leaf\n",
    "    if node.left is None and node.right is None:\n",
    "        print (space*level + str(node.key))\n",
    "        return\n",
    "    #if the node has children\n",
    "    display_keys(node.right, space, level+1)\n",
    "    print(space*level +str(node.key))\n",
    "    display_keys(node.left, space, level+1)"
   ]
  },
  {
   "cell_type": "markdown",
   "id": "c9cdea7f",
   "metadata": {},
   "source": [
    "once again, the display_keys function users recursion to print all the keys of the left and the right subtrees with proper indentation."
   ]
  },
  {
   "cell_type": "code",
   "execution_count": 35,
   "id": "f059d90f",
   "metadata": {},
   "outputs": [
    {
     "name": "stdout",
     "output_type": "stream",
     "text": [
      "   8\n",
      "  7\n",
      "   6\n",
      " 5\n",
      "   4\n",
      "  3\n",
      "   $\n",
      "2\n",
      "  $\n",
      " 3\n",
      "  1\n"
     ]
    }
   ],
   "source": [
    "display_keys(tree2,' ')"
   ]
  },
  {
   "cell_type": "markdown",
   "id": "27e63626",
   "metadata": {},
   "source": [
    "mentally rotate the picture clockwise by 90 degrees"
   ]
  }
 ],
 "metadata": {
  "kernelspec": {
   "display_name": "Python 3 (ipykernel)",
   "language": "python",
   "name": "python3"
  },
  "language_info": {
   "codemirror_mode": {
    "name": "ipython",
    "version": 3
   },
   "file_extension": ".py",
   "mimetype": "text/x-python",
   "name": "python",
   "nbconvert_exporter": "python",
   "pygments_lexer": "ipython3",
   "version": "3.9.7"
  }
 },
 "nbformat": 4,
 "nbformat_minor": 5
}
