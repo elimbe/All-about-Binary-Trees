{
 "cells": [
  {
   "cell_type": "markdown",
   "id": "b7032c2c",
   "metadata": {},
   "source": [
    "a binary search tree or BST is a binary tree that satisfies the following conditions.\n",
    "1. the left subtree of any node only contains nodes with keys less than the nodes key.\n",
    "2. the right subtree of any node only contains nodes with keys greater than the nodes keys.\n",
    "if follows that every subtree of a binary search tree must also be a binary search tree."
   ]
  },
  {
   "cell_type": "code",
   "execution_count": null,
   "id": "e635e745",
   "metadata": {},
   "outputs": [],
   "source": [
    "question. write a function to check if a binary tree is a binary search tree\n",
    "write a function to find the maxaimum key in a binary tree.\n",
    "write a function to find the minimum key in a binary tree."
   ]
  },
  {
   "cell_type": "code",
   "execution_count": null,
   "id": "470dd735",
   "metadata": {},
   "outputs": [],
   "source": [
    "def remove_none(nums):\n",
    "    return[x for x in nums if x is not None]\n",
    "def is_bst (node):\n",
    "    if node is None:\n",
    "        return True, None, None\n",
    "    is_bst_l,min_l,max_l = is_bst(node.left)\n",
    "    is_bst_r, min_r,max_r =is_bst(node.right)\n",
    "    is_bst_node=(is_bst_l and is_bst_r and (max_l is None or node.key>max_l) and (min_r is None or node.key<min_r))\n",
    "    min_key=min(remove_none([min_l,node.key,min_r]))\n",
    "    max_key=max(remove_none([max_l,node.key,max_r]))\n",
    "    #print(node.key, main_key, max_key, is_bst_node)\n",
    "    return is_bst_node,main_key, max_key"
   ]
  },
  {
   "cell_type": "markdown",
   "id": "48d5ad92",
   "metadata": {},
   "source": [
    "insertin into a bst\n",
    "we can use bst-property to perform insertion efficiently\n",
    "1. Starting from the root node, we compare the key to be inserted with the current node's key.\n",
    "2. if the is similar, we recussively, insert it in the left subtree(if it exists) or attach it as the left child if no left subtree exists.\n",
    "3. if the key is larger, we recursively insert it into the right subtree(if it exists) or attach it as the right child if no right subtree exists.\n"
   ]
  },
  {
   "cell_type": "code",
   "execution_count": null,
   "id": "1698d2ae",
   "metadata": {},
   "outputs": [],
   "source": [
    "def insert(node, key, value):\n",
    "    if node  is None:\n",
    "        node=BSTNode(key,value)\n",
    "    elif key<node.key:\n",
    "        node.left=insrt(node.left, key,value)\n",
    "        node.left.parent=node\n",
    "    elif key>node.key:\n",
    "        node.right=insert(node.right,key,value)\n",
    "        node.right.parent=node\n",
    "    return node"
   ]
  },
  {
   "cell_type": "markdown",
   "id": "6c5a4a63",
   "metadata": {},
   "source": [
    "note,however,the order of insertion of nodes change the structure of the resulting tree.\n",
    "skewed/unbalanced BTS are problematic because the heigh of such trees often ceases to be logarithmic compared to the height of the tree.\n",
    "maintaining a balance in binary search tree is very important. \n",
    "\n"
   ]
  },
  {
   "cell_type": "code",
   "execution_count": null,
   "id": "d3594616",
   "metadata": {},
   "outputs": [],
   "source": [
    "#find node in a bst\n",
    "def find(node, key):\n",
    "    if node is None:\n",
    "        return None\n",
    "    if key==node.key:\n",
    "        return node\n",
    "    if key<node.key:\n",
    "        return find(node.left,key)\n",
    "    if key>node.key:\n",
    "        return find(node.right,key)"
   ]
  },
  {
   "cell_type": "code",
   "execution_count": null,
   "id": "bf7b1331",
   "metadata": {},
   "outputs": [],
   "source": [
    "#updating a value in bst\n",
    "def update(node, key,value):\n",
    "    target=find(node,key)\n",
    "    if target is not None:\n",
    "        target.value=value\n"
   ]
  },
  {
   "cell_type": "code",
   "execution_count": null,
   "id": "4e87f419",
   "metadata": {},
   "outputs": [],
   "source": [
    "#listing all the nodes\n",
    "def list_all(node):\n",
    "    if node is None:\n",
    "        return[]\n",
    "    return list_all(node.left)+[(node.key,node.value)]+list_all(node.right)\n",
    "        "
   ]
  },
  {
   "cell_type": "markdown",
   "id": "0f2fdd3c",
   "metadata": {},
   "source": [
    "write a function to determine if binary tree is balanced.\n",
    "    here's a recursiv strategy:\n",
    "    1. Ensure that the left subtree is baalanced\n",
    "    2. ensure that the right subtree is balanced\n",
    "    3. ensure that the height of the left subtree and the right subtree do not differ with more than 1."
   ]
  }
 ],
 "metadata": {
  "kernelspec": {
   "display_name": "Python 3 (ipykernel)",
   "language": "python",
   "name": "python3"
  },
  "language_info": {
   "codemirror_mode": {
    "name": "ipython",
    "version": 3
   },
   "file_extension": ".py",
   "mimetype": "text/x-python",
   "name": "python",
   "nbconvert_exporter": "python",
   "pygments_lexer": "ipython3",
   "version": "3.9.7"
  }
 },
 "nbformat": 4,
 "nbformat_minor": 5
}
