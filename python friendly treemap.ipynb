{
 "cells": [
  {
   "cell_type": "markdown",
   "id": "d8965f53",
   "metadata": {},
   "source": [
    "A PYTHON FRIENDLY TREEMAP\n",
    "back to the original question\n",
    " as a senior backend engineer at microsoft, you are tasked with eveloping a fast in memory data structure to managge profile information (username , email and name) for 100 million users. It should allow the following operations to be carried out efficiently.\n",
    "    1. insert the profile information for a new user.\n",
    "    2. find the profile information of a user given their username.\n",
    "    3. update the profile information of a user given their username.\n",
    "    4. list all the users in the platform sorted by username.\n",
    "\n",
    "    you can assume the username are unique."
   ]
  },
  {
   "cell_type": "code",
   "execution_count": null,
   "id": "7f3a07b8",
   "metadata": {},
   "outputs": [],
   "source": []
  }
 ],
 "metadata": {
  "kernelspec": {
   "display_name": "Python 3 (ipykernel)",
   "language": "python",
   "name": "python3"
  },
  "language_info": {
   "codemirror_mode": {
    "name": "ipython",
    "version": 3
   },
   "file_extension": ".py",
   "mimetype": "text/x-python",
   "name": "python",
   "nbconvert_exporter": "python",
   "pygments_lexer": "ipython3",
   "version": "3.9.7"
  }
 },
 "nbformat": 4,
 "nbformat_minor": 5
}
