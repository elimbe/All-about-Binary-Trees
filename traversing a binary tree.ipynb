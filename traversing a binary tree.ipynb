{
 "cells": [
  {
   "cell_type": "markdown",
   "id": "849b9595",
   "metadata": {},
   "source": [
    "the folowing questions are frequently asked during coding interviews and assesments"
   ]
  },
  {
   "cell_type": "markdown",
   "id": "8735b873",
   "metadata": {},
   "source": [
    "write a function to perform the inorder transversal of a binary tree\n",
    "write a function to perform the preorder transversal of a binary tree\n",
    "write a function to perfor the postorder of a binary tree."
   ]
  },
  {
   "cell_type": "markdown",
   "id": "fcf74ed9",
   "metadata": {},
   "source": [
    "transversal refers to the process of visiting each node of the tree exactly once. visiting a node generally refers to adding the node's key to the list. there are three ways of transversing a binary tree and return the list of visited trees."
   ]
  },
  {
   "cell_type": "markdown",
   "id": "3c9a8651",
   "metadata": {},
   "source": [
    "Inorder transversal.\n",
    "1. traverse the left subtree recusively in order\n",
    "2. traverse the current node.\n",
    "3. traverse the right subtree recursively inorder"
   ]
  },
  {
   "cell_type": "markdown",
   "id": "c1dac59c",
   "metadata": {},
   "source": [
    "Preorder traversal\n",
    "1. traverse the current node\n",
    "2. traverse the left subtree recusively in order\n",
    "3. traverse the right subtree recursively preorder."
   ]
  },
  {
   "cell_type": "markdown",
   "id": "0f07e398",
   "metadata": {},
   "source": [
    "postorder traversal\n",
    "1.traverse the right subtree recursively in order\n",
    "2.traverse the current node\n",
    "3.traverse the left subtree recursively in order."
   ]
  },
  {
   "cell_type": "code",
   "execution_count": 1,
   "id": "71c6373a",
   "metadata": {},
   "outputs": [],
   "source": [
    "def traverse_in_order(node):\n",
    "    if node is None:\n",
    "        return[]\n",
    "    return (traverse_in_order(node.left)+[node.key]+traverse_in_order(node.right))"
   ]
  },
  {
   "cell_type": "code",
   "execution_count": null,
   "id": "4985428a",
   "metadata": {},
   "outputs": [],
   "source": [
    "class TreeNode():\n",
    "    def __init__(self, key):\n",
    "        self.key, slf.left, self.right=key, None, None\n",
    "    def height(self):\n",
    "        if self is None:\n",
    "            return 0\n",
    "        return 1+ max(TreeNode.height(self.left)+TreeNode.size(self.right)\n",
    "    def size(self):\n",
    "        if self is None:\n",
    "            return 0\n",
    "        return 1+ TreeNod.size(self.left)+TreeNode.size(self.right)\n",
    "    def traverse_in_order(self):\n",
    "        if self is None:\n",
    "            return[]\n",
    "        return(TreeNode.traverse_in_order(self.left)+[self.key]+TreeNode.traverse_in_order(self.right)\n",
    "    def display_keys(self, space='\\t', level=0):\n",
    "        #if the node is empty\n",
    "        if self is None:\n",
    "            print (space*level+'⊘')\n",
    "            return\n",
    "        #if the node has children\n",
    "        display_keys(self.right, space, level+1)\n",
    "        print(space*level+str(self.key))\n",
    "        display_keys(self.left,space,level+1)\n",
    "    def to_tuple(self):\n",
    "        if self is None:\n",
    "            return None\n",
    "        if self.left is None and self.right is None:\n",
    "            return self.Key\n",
    "        return TreeNode.to_tuple(self.left), self.key, TreeNode.to_tuple(self.right)\n",
    "    def __str__(self):\n",
    "        return \"BinaryTree <{}>\".format(self.to_tuple())\n",
    "    def __repr__(self):\n",
    "        return \"BinaryTree <{}>\".format(self.to_tuple())\n",
    "    @staticmethod\n",
    "    def parse_tuple(data):\n",
    "        if data is None:\n",
    "            node=None\n",
    "        elif isinstance(data, tuple) and len(data)==3:\n",
    "            node=TreeNode(data[1])\n",
    "            node.left=TreeNode.parse_tuple(data[0])\n",
    "            node.right=treeNode.parse_tuple(data[2])\n",
    "        else:\n",
    "            node=TreeNode(data)\n",
    "        return node\n",
    "               \n",
    "                "
   ]
  }
 ],
 "metadata": {
  "kernelspec": {
   "display_name": "Python 3 (ipykernel)",
   "language": "python",
   "name": "python3"
  },
  "language_info": {
   "codemirror_mode": {
    "name": "ipython",
    "version": 3
   },
   "file_extension": ".py",
   "mimetype": "text/x-python",
   "name": "python",
   "nbconvert_exporter": "python",
   "pygments_lexer": "ipython3",
   "version": "3.9.7"
  }
 },
 "nbformat": 4,
 "nbformat_minor": 5
}
